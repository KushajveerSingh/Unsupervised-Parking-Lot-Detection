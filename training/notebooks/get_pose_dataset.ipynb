{
 "cells": [
  {
   "cell_type": "code",
   "execution_count": 1,
   "metadata": {},
   "outputs": [],
   "source": [
    "from fastai.imports import *"
   ]
  },
  {
   "cell_type": "code",
   "execution_count": 2,
   "metadata": {},
   "outputs": [],
   "source": [
    "path = '/home/kushaj/Desktop/Github/Final_Techgig/data/CNR-EXT-Patches-150x150/LABELS/all.txt'\n",
    "image_path = '/home/kushaj/Desktop/Github/Final_Techgig/data/CNR-EXT-Patches-150x150/PATCHES/'\n",
    "save_path = '/home/kushaj/Desktop/Github/Final_Techgig/data/pose/'\n",
    "\n",
    "os.makedirs(save_path, exist_ok=True)"
   ]
  },
  {
   "cell_type": "code",
   "execution_count": 3,
   "metadata": {},
   "outputs": [],
   "source": [
    "with open(path, 'r') as f:\n",
    "    f = f.readlines()"
   ]
  },
  {
   "cell_type": "code",
   "execution_count": 4,
   "metadata": {},
   "outputs": [],
   "source": [
    "count = 0\n",
    "for img in f:\n",
    "    temp = img.split(' ')\n",
    "    x = temp[0]\n",
    "    y = temp[1][0]\n",
    "    x = image_path + x\n",
    "    save = f'{save_path}{count}.jpg'\n",
    "    \n",
    "    if y == '1':\n",
    "        if count < 10000:\n",
    "            count += 1\n",
    "        else:\n",
    "            shutil.copy(x, save)\n",
    "            count += 1\n",
    "    \n",
    "        if count >= 11000:\n",
    "            break"
   ]
  },
  {
   "cell_type": "code",
   "execution_count": 22,
   "metadata": {},
   "outputs": [
    {
     "data": {
      "text/plain": [
       "'1'"
      ]
     },
     "execution_count": 22,
     "metadata": {},
     "output_type": "execute_result"
    }
   ],
   "source": []
  },
  {
   "cell_type": "code",
   "execution_count": null,
   "metadata": {},
   "outputs": [],
   "source": []
  }
 ],
 "metadata": {
  "kernelspec": {
   "display_name": "Python 3",
   "language": "python",
   "name": "python3"
  },
  "language_info": {
   "codemirror_mode": {
    "name": "ipython",
    "version": 3
   },
   "file_extension": ".py",
   "mimetype": "text/x-python",
   "name": "python",
   "nbconvert_exporter": "python",
   "pygments_lexer": "ipython3",
   "version": "3.7.3"
  }
 },
 "nbformat": 4,
 "nbformat_minor": 2
}
